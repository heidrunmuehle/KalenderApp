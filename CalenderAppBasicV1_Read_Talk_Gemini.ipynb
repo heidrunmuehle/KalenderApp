{
  "cells": [
    {
      "cell_type": "markdown",
      "metadata": {
        "id": "view-in-github",
        "colab_type": "text"
      },
      "source": [
        "<a href=\"https://colab.research.google.com/github/heidrunmuehle/KalenderApp/blob/main/CalenderAppBasicV1_Read_Talk_Gemini.ipynb\" target=\"_parent\"><img src=\"https://colab.research.google.com/assets/colab-badge.svg\" alt=\"Open In Colab\"/></a>"
      ]
    },
    {
      "cell_type": "code",
      "source": [
        "# -*- coding: utf-8 -*-\n",
        "\"\"\"CalendarAppBasicV1/Read/Talk/Gemini.py\n",
        "\n",
        "Fixed version of the calendar authentication script\n",
        "\"\"\"\n",
        "\n",
        "# Install required packages\n",
        "!apt-get update\n",
        "!apt-get install -y libportaudio2 libportaudiocpp0 portaudio19-dev\n",
        "!pip install --upgrade google-api-python-client google-auth-httplib2 google-auth-oauthlib google-auth google-generativeai SpeechRecognition gTTS playsound pyaudio\n"
      ],
      "metadata": {
        "colab": {
          "base_uri": "https://localhost:8080/"
        },
        "id": "khOH4U6vAvZR",
        "outputId": "f2f52754-4485-4f14-9a1c-a53367f326db"
      },
      "execution_count": 1,
      "outputs": [
        {
          "output_type": "stream",
          "name": "stdout",
          "text": [
            "\r0% [Working]\r            \rGet:1 https://cloud.r-project.org/bin/linux/ubuntu jammy-cran40/ InRelease [3,632 B]\n",
            "\r0% [Connecting to archive.ubuntu.com (185.125.190.83)] [Waiting for headers] [Connected to r2u.stat.\r                                                                                                    \rHit:2 https://developer.download.nvidia.com/compute/cuda/repos/ubuntu2204/x86_64  InRelease\n",
            "Hit:3 http://security.ubuntu.com/ubuntu jammy-security InRelease\n",
            "Hit:4 http://archive.ubuntu.com/ubuntu jammy InRelease\n",
            "Hit:5 https://r2u.stat.illinois.edu/ubuntu jammy InRelease\n",
            "Hit:6 http://archive.ubuntu.com/ubuntu jammy-updates InRelease\n",
            "Hit:7 http://archive.ubuntu.com/ubuntu jammy-backports InRelease\n",
            "Hit:8 https://ppa.launchpadcontent.net/deadsnakes/ppa/ubuntu jammy InRelease\n",
            "Hit:9 https://ppa.launchpadcontent.net/graphics-drivers/ppa/ubuntu jammy InRelease\n",
            "Hit:10 https://ppa.launchpadcontent.net/ubuntugis/ppa/ubuntu jammy InRelease\n",
            "Fetched 3,632 B in 3s (1,082 B/s)\n",
            "Reading package lists... Done\n",
            "W: Skipping acquire of configured file 'main/source/Sources' as repository 'https://r2u.stat.illinois.edu/ubuntu jammy InRelease' does not seem to provide it (sources.list entry misspelt?)\n",
            "Reading package lists... Done\n",
            "Building dependency tree... Done\n",
            "Reading state information... Done\n",
            "libportaudio2 is already the newest version (19.6.0-1.1).\n",
            "libportaudiocpp0 is already the newest version (19.6.0-1.1).\n",
            "portaudio19-dev is already the newest version (19.6.0-1.1).\n",
            "0 upgraded, 0 newly installed, 0 to remove and 48 not upgraded.\n",
            "Requirement already satisfied: google-api-python-client in /usr/local/lib/python3.11/dist-packages (2.162.0)\n",
            "Requirement already satisfied: google-auth-httplib2 in /usr/local/lib/python3.11/dist-packages (0.2.0)\n",
            "Requirement already satisfied: google-auth-oauthlib in /usr/local/lib/python3.11/dist-packages (1.2.1)\n",
            "Requirement already satisfied: google-auth in /usr/local/lib/python3.11/dist-packages (2.38.0)\n",
            "Requirement already satisfied: google-generativeai in /usr/local/lib/python3.11/dist-packages (0.8.4)\n",
            "Requirement already satisfied: SpeechRecognition in /usr/local/lib/python3.11/dist-packages (3.14.1)\n",
            "Requirement already satisfied: gTTS in /usr/local/lib/python3.11/dist-packages (2.5.4)\n",
            "Requirement already satisfied: playsound in /usr/local/lib/python3.11/dist-packages (1.3.0)\n",
            "Requirement already satisfied: pyaudio in /usr/local/lib/python3.11/dist-packages (0.2.14)\n",
            "Requirement already satisfied: httplib2<1.dev0,>=0.19.0 in /usr/local/lib/python3.11/dist-packages (from google-api-python-client) (0.22.0)\n",
            "Requirement already satisfied: google-api-core!=2.0.*,!=2.1.*,!=2.2.*,!=2.3.0,<3.0.0.dev0,>=1.31.5 in /usr/local/lib/python3.11/dist-packages (from google-api-python-client) (2.24.1)\n",
            "Requirement already satisfied: uritemplate<5,>=3.0.1 in /usr/local/lib/python3.11/dist-packages (from google-api-python-client) (4.1.1)\n",
            "Requirement already satisfied: requests-oauthlib>=0.7.0 in /usr/local/lib/python3.11/dist-packages (from google-auth-oauthlib) (2.0.0)\n",
            "Requirement already satisfied: cachetools<6.0,>=2.0.0 in /usr/local/lib/python3.11/dist-packages (from google-auth) (5.5.2)\n",
            "Requirement already satisfied: pyasn1-modules>=0.2.1 in /usr/local/lib/python3.11/dist-packages (from google-auth) (0.4.1)\n",
            "Requirement already satisfied: rsa<5,>=3.1.4 in /usr/local/lib/python3.11/dist-packages (from google-auth) (4.9)\n",
            "Requirement already satisfied: google-ai-generativelanguage==0.6.15 in /usr/local/lib/python3.11/dist-packages (from google-generativeai) (0.6.15)\n",
            "Requirement already satisfied: protobuf in /usr/local/lib/python3.11/dist-packages (from google-generativeai) (4.25.6)\n",
            "Requirement already satisfied: pydantic in /usr/local/lib/python3.11/dist-packages (from google-generativeai) (2.10.6)\n",
            "Requirement already satisfied: tqdm in /usr/local/lib/python3.11/dist-packages (from google-generativeai) (4.67.1)\n",
            "Requirement already satisfied: typing-extensions in /usr/local/lib/python3.11/dist-packages (from google-generativeai) (4.12.2)\n",
            "Requirement already satisfied: proto-plus<2.0.0dev,>=1.22.3 in /usr/local/lib/python3.11/dist-packages (from google-ai-generativelanguage==0.6.15->google-generativeai) (1.26.0)\n",
            "Requirement already satisfied: requests<3,>=2.27 in /usr/local/lib/python3.11/dist-packages (from gTTS) (2.32.3)\n",
            "Requirement already satisfied: click<8.2,>=7.1 in /usr/local/lib/python3.11/dist-packages (from gTTS) (8.1.8)\n",
            "Requirement already satisfied: googleapis-common-protos<2.0.dev0,>=1.56.2 in /usr/local/lib/python3.11/dist-packages (from google-api-core!=2.0.*,!=2.1.*,!=2.2.*,!=2.3.0,<3.0.0.dev0,>=1.31.5->google-api-python-client) (1.68.0)\n",
            "Requirement already satisfied: pyparsing!=3.0.0,!=3.0.1,!=3.0.2,!=3.0.3,<4,>=2.4.2 in /usr/local/lib/python3.11/dist-packages (from httplib2<1.dev0,>=0.19.0->google-api-python-client) (3.2.1)\n",
            "Requirement already satisfied: pyasn1<0.7.0,>=0.4.6 in /usr/local/lib/python3.11/dist-packages (from pyasn1-modules>=0.2.1->google-auth) (0.6.1)\n",
            "Requirement already satisfied: charset-normalizer<4,>=2 in /usr/local/lib/python3.11/dist-packages (from requests<3,>=2.27->gTTS) (3.4.1)\n",
            "Requirement already satisfied: idna<4,>=2.5 in /usr/local/lib/python3.11/dist-packages (from requests<3,>=2.27->gTTS) (3.10)\n",
            "Requirement already satisfied: urllib3<3,>=1.21.1 in /usr/local/lib/python3.11/dist-packages (from requests<3,>=2.27->gTTS) (2.3.0)\n",
            "Requirement already satisfied: certifi>=2017.4.17 in /usr/local/lib/python3.11/dist-packages (from requests<3,>=2.27->gTTS) (2025.1.31)\n",
            "Requirement already satisfied: oauthlib>=3.0.0 in /usr/local/lib/python3.11/dist-packages (from requests-oauthlib>=0.7.0->google-auth-oauthlib) (3.2.2)\n",
            "Requirement already satisfied: annotated-types>=0.6.0 in /usr/local/lib/python3.11/dist-packages (from pydantic->google-generativeai) (0.7.0)\n",
            "Requirement already satisfied: pydantic-core==2.27.2 in /usr/local/lib/python3.11/dist-packages (from pydantic->google-generativeai) (2.27.2)\n",
            "Requirement already satisfied: grpcio<2.0dev,>=1.33.2 in /usr/local/lib/python3.11/dist-packages (from google-api-core[grpc]!=2.0.*,!=2.1.*,!=2.10.*,!=2.2.*,!=2.3.*,!=2.4.*,!=2.5.*,!=2.6.*,!=2.7.*,!=2.8.*,!=2.9.*,<3.0.0dev,>=1.34.1->google-ai-generativelanguage==0.6.15->google-generativeai) (1.70.0)\n",
            "Requirement already satisfied: grpcio-status<2.0.dev0,>=1.33.2 in /usr/local/lib/python3.11/dist-packages (from google-api-core[grpc]!=2.0.*,!=2.1.*,!=2.10.*,!=2.2.*,!=2.3.*,!=2.4.*,!=2.5.*,!=2.6.*,!=2.7.*,!=2.8.*,!=2.9.*,<3.0.0dev,>=1.34.1->google-ai-generativelanguage==0.6.15->google-generativeai) (1.62.3)\n"
          ]
        }
      ]
    },
    {
      "cell_type": "code",
      "source": [
        "\n",
        "import google.generativeai as genai\n",
        "from google_auth_oauthlib.flow import Flow\n",
        "from googleapiclient.discovery import build\n",
        "import datetime\n",
        "import os\n",
        "import speech_recognition as sr\n",
        "from gtts import gTTS\n",
        "import playsound\n",
        "from IPython.display import Audio, display"
      ],
      "metadata": {
        "colab": {
          "base_uri": "https://localhost:8080/"
        },
        "id": "7GGI36L4AvXO",
        "outputId": "bed6cc14-44e6-4ed7-e907-26c1108aa2b4"
      },
      "execution_count": 2,
      "outputs": [
        {
          "output_type": "stream",
          "name": "stderr",
          "text": [
            "WARNING:playsound:playsound is relying on another python subprocess. Please use `pip install pygobject` if you want playsound to run more efficiently.\n"
          ]
        }
      ]
    },
    {
      "cell_type": "code",
      "source": [
        "client_secret_file = 'client_secret_2_710076331232-dhd20rctbckgahvje160tmn019im73g6.apps.googleusercontent.com.json'\n"
      ],
      "metadata": {
        "id": "r-1-4e4pBod4"
      },
      "execution_count": 7,
      "outputs": []
    },
    {
      "cell_type": "code",
      "source": [
        "# Load the client configuration from the JSON file\n",
        "with open(client_secret_file, 'r') as file:\n",
        "    client_config = json.load(file)"
      ],
      "metadata": {
        "id": "hNx7-JxNBqCr"
      },
      "execution_count": 8,
      "outputs": []
    },
    {
      "cell_type": "code",
      "source": [
        "\n",
        "\n",
        "# ------------------- Google Calendar API Configuration -------------------\n",
        "# This scope allows readonly access to Google Calendar\n",
        "SCOPES = [\"https://www.googleapis.com/auth/calendar.readonly\"]"
      ],
      "metadata": {
        "id": "AciYCkjZEIfe"
      },
      "execution_count": 9,
      "outputs": []
    },
    {
      "cell_type": "code",
      "source": [
        "\n",
        "\n",
        "# ------------------- OAuth Flow Setup -------------------\n",
        "flow = Flow.from_client_config(\n",
        "    client_config=client_config,\n",
        "    scopes=SCOPES,\n",
        "    redirect_uri=client_config['web']['redirect_uris'][0]  # Use the first redirect URI from the file\n",
        ")"
      ],
      "metadata": {
        "id": "0q6t9Ih2EIdI"
      },
      "execution_count": 10,
      "outputs": []
    },
    {
      "cell_type": "code",
      "source": [
        "\n",
        "\n",
        "# ------------------- Generate Authorization URL -------------------\n",
        "auth_url, _ = flow.authorization_url(\n",
        "    prompt='consent',       # Force consent prompt\n",
        "    access_type='offline'   # Enable refresh token\n",
        ")\n",
        "\n",
        "print(\">>> PLEASE FOLLOW THIS LINK TO AUTHORIZE ACCESS <<<\")\n",
        "print(auth_url)\n",
        "print(\"\\n>>> AFTER AUTHORIZATION, GOOGLE REDIRECTS TO http://localhost:8088 <<<\")\n",
        "print(\">>> THIS REDIRECT WILL FAIL IN COLAB, BUT THE ADDRESS BAR WILL HAVE 'code=' <<<\")\n",
        "print(\">>> COPY THE VALUE AFTER 'code=' AND PASTE IT BELOW <<<\")\n"
      ],
      "metadata": {
        "colab": {
          "base_uri": "https://localhost:8080/"
        },
        "id": "KkyzgYjZEIaz",
        "outputId": "f8b3add7-388f-499d-b240-9e62267e84d2"
      },
      "execution_count": 11,
      "outputs": [
        {
          "output_type": "stream",
          "name": "stdout",
          "text": [
            ">>> PLEASE FOLLOW THIS LINK TO AUTHORIZE ACCESS <<<\n",
            "https://accounts.google.com/o/oauth2/auth?response_type=code&client_id=710076331232-dhd20rctbckgahvje160tmn019im73g6.apps.googleusercontent.com&redirect_uri=http%3A%2F%2Flocalhost%3A8088&scope=https%3A%2F%2Fwww.googleapis.com%2Fauth%2Fcalendar.readonly&state=BejoBlBM2HaMhBtOJKcqHf7RKkuC2Q&prompt=consent&access_type=offline\n",
            "\n",
            ">>> AFTER AUTHORIZATION, GOOGLE REDIRECTS TO http://localhost:8088 <<<\n",
            ">>> THIS REDIRECT WILL FAIL IN COLAB, BUT THE ADDRESS BAR WILL HAVE 'code=' <<<\n",
            ">>> COPY THE VALUE AFTER 'code=' AND PASTE IT BELOW <<<\n"
          ]
        }
      ]
    },
    {
      "cell_type": "code",
      "source": [
        "\n",
        "# ------------------- Exchange authorization code for credentials -------------------\n",
        "auth_code = input(\"\\nPlease paste the value from 'code=' here: \")\n",
        "flow.fetch_token(code=auth_code)\n",
        "creds = flow.credentials"
      ],
      "metadata": {
        "colab": {
          "base_uri": "https://localhost:8080/"
        },
        "id": "27gwGKvfERDr",
        "outputId": "e2432a0c-f825-4ecc-94fa-6c23d3badbed"
      },
      "execution_count": 12,
      "outputs": [
        {
          "name": "stdout",
          "output_type": "stream",
          "text": [
            "\n",
            "Please paste the value from 'code=' here: 4/0AQSTgQFafVB_u8DK-xkSiTvZoR2tX9oUAaXUHtQIIYuRSf4RalBAFCYN-ravzaWp_e7kzg&scope=https://www.googleapis.com/auth/calendar.readonly\n"
          ]
        }
      ]
    },
    {
      "cell_type": "code",
      "source": [
        "\n",
        "\n",
        "# ------------------- Calendar Service Setup -------------------\n",
        "service = build('calendar', 'v3', credentials=creds)\n",
        "\n",
        "# ------------------- Helper Functions -------------------\n",
        "def get_upcoming_events(num_events=10):\n",
        "    \"\"\"Fetch upcoming events from the user's primary calendar.\"\"\"\n",
        "    now = datetime.datetime.utcnow().isoformat() + 'Z'  # 'Z' indicates UTC time\n",
        "    print(f'Getting the upcoming {num_events} events')\n",
        "\n",
        "    events_result = service.events().list(\n",
        "        calendarId='primary',\n",
        "        timeMin=now,\n",
        "        maxResults=num_events,\n",
        "        singleEvents=True,\n",
        "        orderBy='startTime'\n",
        "    ).execute()\n",
        "\n",
        "    events = events_result.get('items', [])\n",
        "\n",
        "    if not events:\n",
        "        return \"No upcoming events found.\"\n",
        "\n",
        "    event_list = []\n",
        "    for event in events:\n",
        "        start = event['start'].get('dateTime', event['start'].get('date'))\n",
        "        event_list.append(f\"{start}: {event['summary']}\")\n",
        "\n",
        "    return \"\\n\".join(event_list)\n",
        "\n",
        "def speak_text(text):\n",
        "    \"\"\"Convert text to speech and play it.\"\"\"\n",
        "    tts = gTTS(text=text, lang='en')\n",
        "    filename = \"output.mp3\"\n",
        "    tts.save(filename)\n",
        "\n",
        "    # Display audio for playback in Colab\n",
        "    display(Audio(filename, autoplay=True))\n",
        "\n",
        "    # Clean up the file\n",
        "    os.remove(filename)\n",
        "\n",
        "def listen_for_command():\n",
        "    \"\"\"Listen for voice commands using the microphone.\"\"\"\n",
        "    r = sr.Recognizer()\n",
        "    with sr.Microphone() as source:\n",
        "        print(\"Listening for command...\")\n",
        "        audio = r.listen(source)\n",
        "\n",
        "    try:\n",
        "        command = r.recognize_google(audio)\n",
        "        print(f\"Recognized: {command}\")\n",
        "        return command.lower()\n",
        "    except sr.UnknownValueError:\n",
        "        print(\"Could not understand audio\")\n",
        "        return \"\"\n",
        "    except sr.RequestError as e:\n",
        "        print(f\"Could not request results; {e}\")\n",
        "        return \"\"\n",
        "\n",
        "# ------------------- Main Application Loop -------------------\n",
        "def run_calendar_assistant():\n",
        "    \"\"\"Run the main calendar assistant loop.\"\"\"\n",
        "    speak_text(\"Calendar Assistant is ready. You can ask about your upcoming events.\")\n",
        "\n",
        "    while True:\n",
        "        command = listen_for_command()\n",
        "\n",
        "        if \"events\" in command or \"calendar\" in command or \"schedule\" in command:\n",
        "            events = get_upcoming_events(5)  # Get next 5 events\n",
        "            speak_text(\"Here are your upcoming events: \" + events)\n",
        "\n",
        "        elif \"exit\" in command or \"quit\" in command or \"goodbye\" in command:\n",
        "            speak_text(\"Goodbye!\")\n",
        "            break\n",
        "\n",
        "        elif command:\n",
        "            speak_text(\"I didn't understand that. You can ask about your upcoming events or say goodbye to exit.\")\n",
        "\n",
        "# ------------------- Test Calendar Access -------------------\n",
        "# Test by fetching upcoming events\n",
        "try:\n",
        "    events = get_upcoming_events(3)  # Get next 3 events\n",
        "    print(\"Your upcoming events:\")\n",
        "    print(events)\n",
        "\n",
        "    # Uncomment to enable voice interaction\n",
        "    # run_calendar_assistant()\n",
        "\n",
        "except Exception as e:\n",
        "    print(f\"An error occurred: {e}\")\n"
      ],
      "metadata": {
        "colab": {
          "base_uri": "https://localhost:8080/"
        },
        "id": "P9u3CvPyBqAU",
        "outputId": "f17720d1-49e1-40c0-d82c-452c84540f33"
      },
      "execution_count": 14,
      "outputs": [
        {
          "output_type": "stream",
          "name": "stdout",
          "text": [
            "Getting the upcoming 3 events\n",
            "Your upcoming events:\n",
            "2025-03-04T09:30:00+01:00:  StandUp 506 Development Team \n",
            "2025-03-04T10:00:00+01:00: Kick Off Meeting Testing Mandanten Level \n",
            "2025-03-04T10:30:00+01:00: Refinment \n"
          ]
        }
      ]
    },
    {
      "cell_type": "code",
      "source": [],
      "metadata": {
        "id": "lKr1uU0XBp9-"
      },
      "execution_count": null,
      "outputs": []
    },
    {
      "cell_type": "code",
      "source": [],
      "metadata": {
        "id": "csEXd8D_Bp7Z"
      },
      "execution_count": null,
      "outputs": []
    },
    {
      "cell_type": "code",
      "source": [],
      "metadata": {
        "colab": {
          "base_uri": "https://localhost:8080/"
        },
        "id": "3WneP7LVAvU-",
        "outputId": "d52b023b-ae52-48b2-ce9e-44f44e644c1c"
      },
      "execution_count": 4,
      "outputs": [
        {
          "output_type": "stream",
          "name": "stdout",
          "text": [
            "JSON file not found, using hardcoded configuration\n"
          ]
        }
      ]
    },
    {
      "cell_type": "code",
      "source": [],
      "metadata": {
        "id": "Cgy8qwEEAvOb"
      },
      "execution_count": null,
      "outputs": []
    },
    {
      "cell_type": "code",
      "source": [],
      "metadata": {
        "id": "gDwvz9NDAvMC"
      },
      "execution_count": null,
      "outputs": []
    },
    {
      "cell_type": "code",
      "source": [],
      "metadata": {
        "id": "CKSSfnRYAvJv"
      },
      "execution_count": null,
      "outputs": []
    },
    {
      "cell_type": "code",
      "source": [],
      "metadata": {
        "id": "nnHlSXZDAvHY"
      },
      "execution_count": null,
      "outputs": []
    },
    {
      "cell_type": "code",
      "source": [],
      "metadata": {
        "id": "N5OlYN0oAvFA"
      },
      "execution_count": null,
      "outputs": []
    },
    {
      "cell_type": "code",
      "source": [],
      "metadata": {
        "id": "BCQuPoLtAvC3"
      },
      "execution_count": null,
      "outputs": []
    },
    {
      "cell_type": "code",
      "source": [],
      "metadata": {
        "id": "f-wj3DEjAvAp"
      },
      "execution_count": null,
      "outputs": []
    },
    {
      "cell_type": "code",
      "source": [],
      "metadata": {
        "id": "h4ZT0Z2qAu-i"
      },
      "execution_count": null,
      "outputs": []
    },
    {
      "cell_type": "code",
      "source": [],
      "metadata": {
        "id": "ZmeovaMQAu8M"
      },
      "execution_count": null,
      "outputs": []
    },
    {
      "cell_type": "code",
      "source": [],
      "metadata": {
        "id": "jtq5wVu8Au55"
      },
      "execution_count": null,
      "outputs": []
    },
    {
      "cell_type": "code",
      "source": [],
      "metadata": {
        "id": "Zj5wR9Z-Au3S"
      },
      "execution_count": null,
      "outputs": []
    },
    {
      "cell_type": "code",
      "source": [],
      "metadata": {
        "id": "Jhjj2R_BAu0q"
      },
      "execution_count": null,
      "outputs": []
    },
    {
      "cell_type": "code",
      "execution_count": null,
      "metadata": {
        "id": "l0KjPYgv6E_f"
      },
      "outputs": [],
      "source": []
    },
    {
      "cell_type": "code",
      "execution_count": null,
      "metadata": {
        "id": "KGRizdjA6E9U"
      },
      "outputs": [],
      "source": []
    },
    {
      "cell_type": "code",
      "execution_count": null,
      "metadata": {
        "id": "icJpPpY-6E62"
      },
      "outputs": [],
      "source": []
    },
    {
      "cell_type": "code",
      "execution_count": null,
      "metadata": {
        "id": "4mByNCV16E47"
      },
      "outputs": [],
      "source": []
    },
    {
      "cell_type": "code",
      "execution_count": null,
      "metadata": {
        "id": "6FJXC3OJ6E2j"
      },
      "outputs": [],
      "source": []
    },
    {
      "cell_type": "code",
      "execution_count": null,
      "metadata": {
        "id": "klyqEUhR6Ez_"
      },
      "outputs": [],
      "source": []
    }
  ],
  "metadata": {
    "colab": {
      "provenance": [],
      "authorship_tag": "ABX9TyOyQpwHF+ZyfJNF807AQ+rI",
      "include_colab_link": true
    },
    "kernelspec": {
      "display_name": "Python 3",
      "name": "python3"
    },
    "language_info": {
      "name": "python"
    }
  },
  "nbformat": 4,
  "nbformat_minor": 0
}